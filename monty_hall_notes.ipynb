{
 "cells": [
  {
   "cell_type": "markdown",
   "metadata": {},
   "source": [
    "## Monty Hall Notes\n",
    "Initially the probabilty of you winning is simply 1 out of 3, since you either pick the right door or you did not. The act of the host picking a door is completely dependent on if what door you have picked since:\n",
    "1. you picked the right door, thus he can choose either dummy doors to show you\n",
    "2. you picked the wrong door, thus he can only pick the other dummy door to show you\n",
    "\n",
    "this in itself doesn't increase your odds of winning, just sort of cruel and pointless on its own. What brings it all together is that then you get the option to switch doors, thus now we have a set of independent and dependent events based on the two options that were presented on top.\n",
    "1. you picked the right door, thus switching would cause you to lose\n",
    "2. you picked the wrong door, thus switching would cause you to win\n",
    "\n",
    "Lets put it into numerical terms to see if we can make sense of this:\n",
    "1. P(initial door winning) = 1/3 => host can choose either door to open => P(inital door winning) = 1/3\n",
    "2. P(initial door losing) = 2/3 => host can only open the other dummy door => P(switch and winning) = 1\n",
    "\n",
    "Meaning since you do not know which door you picked, then it is in your best interests to switch doors and pick the new one. Which means you would achieve a 2/3 chance of winning if you always switch doors, as suppose to only 1/3 chance of winning if you remain with the door you have choosen."
   ]
  },
  {
   "cell_type": "code",
   "execution_count": null,
   "metadata": {},
   "outputs": [],
   "source": []
  }
 ],
 "metadata": {
  "kernelspec": {
   "display_name": "Python 3",
   "language": "python",
   "name": "python3"
  },
  "language_info": {
   "codemirror_mode": {
    "name": "ipython",
    "version": 3
   },
   "file_extension": ".py",
   "mimetype": "text/x-python",
   "name": "python",
   "nbconvert_exporter": "python",
   "pygments_lexer": "ipython3",
   "version": "3.6.5"
  }
 },
 "nbformat": 4,
 "nbformat_minor": 2
}
