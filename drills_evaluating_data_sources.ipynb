{
 "cells": [
  {
   "cell_type": "markdown",
   "metadata": {},
   "source": [
    "## Drills on Evaluating Data Sources - Lesson 2 Unit 3\n",
    "1. Data Source: Amsterdam availability data scraped from AirBnB on December 24th. Question: What are the popular neighborhoods in Amsterdam?\n",
    "\n",
    "The problem is that there will be an influx of visitors for christmas, scewing the data to appear much differently than normal. The fix would be to rename the data set to fit the scope, \"what are the popular christmas neighborhoods in amsterdam\n",
    "\n",
    "2. Data Source: Mental health services use on September 12, 2001 in San Francisco, CA and New York City, NY. Question: How do patterns of mental health service use vary between cities?\n",
    "\n",
    "The problem is that this was right after the terror attacks in new york city, meaning that data could possibly be scewed across the nation, but would most definitely be scewed in new york city. The fix would be to rename the data set to see mental health services patterns after a national crisis.\n",
    "\n",
    "3. Data Source: Armenian Pub Survey. Question: What are the most common reasons Armenians visit local pubs?\n",
    "\n",
    "The problem is that the sample is very small (175) for the question asked, along with it only covering the capital and urban areas as sampling locations, thus adding a goegraphical bias. The fix would be to rescope his question to, \"what are the most common reasons Armenians in the capitol and ubran settings drink?\" and increase the sample size"
   ]
  },
  {
   "cell_type": "code",
   "execution_count": null,
   "metadata": {},
   "outputs": [],
   "source": []
  }
 ],
 "metadata": {
  "kernelspec": {
   "display_name": "Python 3",
   "language": "python",
   "name": "python3"
  },
  "language_info": {
   "codemirror_mode": {
    "name": "ipython",
    "version": 3
   },
   "file_extension": ".py",
   "mimetype": "text/x-python",
   "name": "python",
   "nbconvert_exporter": "python",
   "pygments_lexer": "ipython3",
   "version": "3.6.5"
  }
 },
 "nbformat": 4,
 "nbformat_minor": 2
}
