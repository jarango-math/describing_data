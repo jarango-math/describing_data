{
 "cells": [
  {
   "cell_type": "code",
   "execution_count": 2,
   "metadata": {},
   "outputs": [
    {
     "name": "stdout",
     "output_type": "stream",
     "text": [
      "1.94\n",
      "5.18\n",
      "1.355138369318794\n",
      "1.5835403373454051\n",
      "3.2399999999999998\n"
     ]
    },
    {
     "data": {
      "image/png": "[encoded data removed]",
      "text/plain": [
       "<Figure size 432x288 with 1 Axes>"
      ]
     },
     "metadata": {},
     "output_type": "display_data"
    }
   ],
   "source": [
    "import numpy as np\n",
    "import matplotlib.pyplot as plt\n",
    "import pandas as pd\n",
    "%matplotlib inline\n",
    "\n",
    "pop1 = np.random.binomial(10,0.2,10000)\n",
    "pop2 = np.random.binomial(10,0.5,10000)\n",
    "\n",
    "sample1 = np.random.choice(pop1, 100, replace=True)\n",
    "sample2 = np.random.choice(pop2, 100, replace=True)\n",
    "\n",
    "print(sample1.mean())\n",
    "print(sample2.mean())\n",
    "print(sample1.std())\n",
    "print(sample2.std())\n",
    "\n",
    "# Compute the difference between the two sample means.\n",
    "diff=sample2.mean( ) -sample1.mean()\n",
    "print(diff)\n",
    "\n",
    "plt.hist(sample1, alpha=0.5, label='sample 1') \n",
    "plt.hist(sample2, alpha=0.5, label='sample 2') \n",
    "plt.legend(loc='upper right') \n",
    "plt.show()"
   ]
  },
  {
   "cell_type": "code",
   "execution_count": 7,
   "metadata": {},
   "outputs": [
    {
     "name": "stdout",
     "output_type": "stream",
     "text": [
      "2.013\n",
      "4.997\n",
      "1.291058093193331\n",
      "1.5984339210614869\n",
      "2.984\n"
     ]
    },
    {
     "data": {
      "image/png": "[encoded data removed]",
      "text/plain": [
       "<Figure size 432x288 with 1 Axes>"
      ]
     },
     "metadata": {},
     "output_type": "display_data"
    }
   ],
   "source": [
    "sample1_1000 = np.random.choice(pop1, 1000, replace=True)\n",
    "sample2_1000 = np.random.choice(pop2, 1000, replace=True)\n",
    "\n",
    "print(sample1_1000.mean())\n",
    "print(sample2_1000.mean())\n",
    "print(sample1_1000.std())\n",
    "print(sample2_1000.std())\n",
    "\n",
    "# Compute the difference between the two sample means.\n",
    "diff=sample2_1000.mean( ) -sample1_1000.mean()\n",
    "print(diff)\n",
    "\n",
    "plt.hist(sample1_1000, alpha=0.5, label='sample 1') \n",
    "plt.hist(sample2_1000, alpha=0.5, label='sample 2') \n",
    "plt.legend(loc='upper right') \n",
    "plt.show()"
   ]
  },
  {
   "cell_type": "code",
   "execution_count": 8,
   "metadata": {},
   "outputs": [
    {
     "name": "stdout",
     "output_type": "stream",
     "text": [
      "2.35\n",
      "4.9\n",
      "1.6515144564913744\n",
      "1.7860571099491753\n",
      "2.5500000000000003\n"
     ]
    },
    {
     "data": {
      "image/png": "[encoded data removed]",
      "text/plain": [
       "<Figure size 432x288 with 1 Axes>"
      ]
     },
     "metadata": {},
     "output_type": "display_data"
    }
   ],
   "source": [
    "sample1_20 = np.random.choice(pop1, 20, replace=True)\n",
    "sample2_20 = np.random.choice(pop2, 20, replace=True)\n",
    "\n",
    "print(sample1_20.mean())\n",
    "print(sample2_20.mean())\n",
    "print(sample1_20.std())\n",
    "print(sample2_20.std())\n",
    "\n",
    "# Compute the difference between the two sample means.\n",
    "diff=sample2_20.mean( ) -sample1_20.mean()\n",
    "print(diff)\n",
    "\n",
    "plt.hist(sample1_20, alpha=0.5, label='sample 1') \n",
    "plt.hist(sample2_20, alpha=0.5, label='sample 2') \n",
    "plt.legend(loc='upper right') \n",
    "plt.show()"
   ]
  },
  {
   "cell_type": "code",
   "execution_count": 12,
   "metadata": {},
   "outputs": [
    {
     "name": "stdout",
     "output_type": "stream",
     "text": [
      "3.3\n",
      "5.21\n",
      "1.4035668847618201\n",
      "1.5250901612691623\n",
      "1.9100000000000001\n",
      "Ttest_indResult(statistic=9.169040328321042, pvalue=6.488742589322288e-17)\n"
     ]
    },
    {
     "data": {
      "image/png": "[encoded data removed]",
      "text/plain": [
       "<Figure size 432x288 with 1 Axes>"
      ]
     },
     "metadata": {},
     "output_type": "display_data"
    }
   ],
   "source": [
    "pop1_3 = np.random.binomial(10,0.3,10000)\n",
    "sample1_3 = np.random.choice(pop1_3, 100, replace=True)\n",
    "sample2 = np.random.choice(pop2, 100, replace=True)\n",
    "\n",
    "print(sample1_3.mean())\n",
    "print(sample2.mean())\n",
    "print(sample1_3.std())\n",
    "print(sample2.std())\n",
    "\n",
    "# Compute the difference between the two sample means.\n",
    "diff=sample2.mean( ) -sample1_3.mean()\n",
    "print(diff)\n",
    "\n",
    "from scipy.stats import ttest_ind\n",
    "print(ttest_ind(sample2, sample1_3, equal_var=False))\n",
    "\n",
    "plt.hist(sample1_3, alpha=0.5, label='sample 1') \n",
    "plt.hist(sample2, alpha=0.5, label='sample 2') \n",
    "plt.legend(loc='upper right') \n",
    "plt.show()"
   ]
  },
  {
   "cell_type": "code",
   "execution_count": 11,
   "metadata": {},
   "outputs": [
    {
     "name": "stdout",
     "output_type": "stream",
     "text": [
      "3.89\n",
      "5.11\n",
      "1.5549598065544974\n",
      "1.8269920634748251\n",
      "1.2200000000000002\n",
      "Ttest_indResult(statistic=5.05969782318274, pvalue=9.742997403079696e-07)\n"
     ]
    },
    {
     "data": {
      "image/png": "[encoded data removed]",
      "text/plain": [
       "<Figure size 432x288 with 1 Axes>"
      ]
     },
     "metadata": {},
     "output_type": "display_data"
    }
   ],
   "source": [
    "pop1_4 = np.random.binomial(10,0.4,10000)\n",
    "sample1_4 = np.random.choice(pop1_4, 100, replace=True)\n",
    "\n",
    "print(sample1_4.mean())\n",
    "print(sample2.mean())\n",
    "print(sample1_4.std())\n",
    "print(sample2.std())\n",
    "\n",
    "# Compute the difference between the two sample means.\n",
    "diff=sample2.mean( ) -sample1_4.mean()\n",
    "print(diff)\n",
    "\n",
    "from scipy.stats import ttest_ind\n",
    "print(ttest_ind(sample2, sample1_4, equal_var=False))\n",
    "\n",
    "plt.hist(sample1_4, alpha=0.5, label='sample 1') \n",
    "plt.hist(sample2, alpha=0.5, label='sample 2') \n",
    "plt.legend(loc='upper right') \n",
    "plt.show()"
   ]
  },
  {
   "cell_type": "markdown",
   "metadata": {},
   "source": [
    "## Question #1\n",
    "The standard deviation of the changing samples change very little, with the mean changing more and difference shrinking slightly with increasing the sampling size\n",
    "\n",
    "## Question #2\n",
    "The t-value shrinks and the p-value gets larger as the populations become more similar\n",
    "\n",
    "## Question #3\n",
    "The mean values still represent the population, but interestingly in reverse, causing the difference to be a negative similar value. The standard deviation of pop1 also increased"
   ]
  },
  {
   "cell_type": "code",
   "execution_count": 14,
   "metadata": {},
   "outputs": [
    {
     "name": "stdout",
     "output_type": "stream",
     "text": [
      "5.5\n",
      "1.89\n",
      "4.992995093127972\n",
      "1.2719669807035088\n",
      "-3.6100000000000003\n"
     ]
    },
    {
     "data": {
      "image/png": "[encoded data removed]",
      "text/plain": [
       "<Figure size 432x288 with 1 Axes>"
      ]
     },
     "metadata": {},
     "output_type": "display_data"
    }
   ],
   "source": [
    "pop1_geo = np.random.geometric(0.2,10000)\n",
    "pop2_geo = np.random.geometric(0.5,10000)\n",
    "\n",
    "sample1_geo = np.random.choice(pop1_geo, 100, replace=True)\n",
    "sample2_geo = np.random.choice(pop2_geo, 100, replace=True)\n",
    "\n",
    "print(sample1_geo.mean())\n",
    "print(sample2_geo.mean())\n",
    "print(sample1_geo.std())\n",
    "print(sample2_geo.std())\n",
    "\n",
    "# Compute the difference between the two sample means.\n",
    "diff=sample2_geo.mean( ) -sample1_geo.mean()\n",
    "print(diff)\n",
    "\n",
    "plt.hist(sample1_geo, alpha=0.5, label='sample 1') \n",
    "plt.hist(sample2_geo, alpha=0.5, label='sample 2') \n",
    "plt.legend(loc='upper right') \n",
    "plt.show()"
   ]
  },
  {
   "cell_type": "code",
   "execution_count": null,
   "metadata": {},
   "outputs": [],
   "source": []
  }
 ],
 "metadata": {
  "kernelspec": {
   "display_name": "Python 3",
   "language": "python",
   "name": "python3"
  },
  "language_info": {
   "codemirror_mode": {
    "name": "ipython",
    "version": 3
   },
   "file_extension": ".py",
   "mimetype": "text/x-python",
   "name": "python",
   "nbconvert_exporter": "python",
   "pygments_lexer": "ipython3",
   "version": "3.6.5"
  }
 },
 "nbformat": 4,
 "nbformat_minor": 2
}
