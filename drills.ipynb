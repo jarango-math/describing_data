{
 "cells": [
  {
   "cell_type": "markdown",
   "metadata": {},
   "source": [
    "## Excersices in Probability - Basics of Probability\n",
    "1. In each case each flip is independent of the previous, there for all for combinations have the same probability of happening, which is 1/16 or (1/2)^4\n",
    "2. the probability of not choosing a man is 24/45\n",
    "3. the chance of Bernice being in a plane crash is .0005%\n",
    "4. This method has an inherent bias towards users that click more links on the website than those that just view the home page. a solution for this would be to do 5% of all user that visit the website in general"
   ]
  },
  {
   "cell_type": "code",
   "execution_count": null,
   "metadata": {},
   "outputs": [],
   "source": []
  }
 ],
 "metadata": {
  "kernelspec": {
   "display_name": "Python 3",
   "language": "python",
   "name": "python3"
  },
  "language_info": {
   "codemirror_mode": {
    "name": "ipython",
    "version": 3
   },
   "file_extension": ".py",
   "mimetype": "text/x-python",
   "name": "python",
   "nbconvert_exporter": "python",
   "pygments_lexer": "ipython3",
   "version": "3.6.5"
  }
 },
 "nbformat": 4,
 "nbformat_minor": 2
}
