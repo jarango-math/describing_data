{
 "cells": [
  {
   "cell_type": "markdown",
   "metadata": {},
   "source": [
    "# Drills for Fundamentals of Python Programming"
   ]
  },
  {
   "cell_type": "markdown",
   "metadata": {},
   "source": [
    "## Describing Data - Summerizing Data"
   ]
  },
  {
   "cell_type": "code",
   "execution_count": 10,
   "metadata": {},
   "outputs": [
    {
     "name": "stdout",
     "output_type": "stream",
     "text": [
      "mean: 9.857142857142858, median: 10.0, mode: 8\n",
      "variance: 6.408163265306122, standard deviation: 2.734262327610589, standard error: 1.0334540197243192\n",
      "mean: 10.0, median: 10.0, mode: 8\n",
      "variance: 5.428571428571429, standard deviation: 2.516611478423583, standard error: 0.9511897312113418\n",
      "mean: 9.0, median: 10.0\n",
      "variance: 15.428571428571429, standard deviation: 4.242640687119285, standard error: 1.6035674514745462\n",
      "mean: 0.16250000000000003, median: 0.185\n",
      "variance: 0.00466875, standard deviation: 0.0788986691902975, standard error: 0.03944933459514875\n"
     ]
    }
   ],
   "source": [
    "import pandas as pd\n",
    "import matplotlib as plt\n",
    "import numpy as np\n",
    "import statistics\n",
    "\n",
    "ages=[14,12,11,10,8,6,8]\n",
    "mean = sum(ages)/len(ages)\n",
    "median = np.median(ages)\n",
    "mode = statistics.mode(ages)\n",
    "print(\"mean: {}, median: {}, mode: {}\".format(mean,median,mode))\n",
    "variance = np.var(ages)\n",
    "sd = np.std(ages, ddof=1)\n",
    "se = sd/(len(ages)**0.5)\n",
    "print(\"variance: {}, standard deviation: {}, standard error: {}\".format(variance,sd,se))\n",
    "\n",
    "ages=[14,12,11,10,8,7,8]\n",
    "mean = sum(ages)/len(ages)\n",
    "median = np.median(ages)\n",
    "mode = statistics.mode(ages)\n",
    "print(\"mean: {}, median: {}, mode: {}\".format(mean,median,mode))\n",
    "variance = np.var(ages)\n",
    "sd = np.std(ages, ddof=1)\n",
    "se = sd/(len(ages)**0.5)\n",
    "print(\"variance: {}, standard deviation: {}, standard error: {}\".format(variance,sd,se))\n",
    "\n",
    "ages=[14,12,11,10,8,7,1]\n",
    "mean = sum(ages)/len(ages)\n",
    "median = np.median(ages)\n",
    "print(\"mean: {}, median: {}\".format(mean,median))\n",
    "variance = np.var(ages)\n",
    "sd = np.std(ages, ddof=1)\n",
    "se = sd/(len(ages)**0.5)\n",
    "print(\"variance: {}, standard deviation: {}, standard error: {}\".format(variance,sd,se))\n",
    "\n",
    "percent=[.20,.23,.17,.05]\n",
    "mean = sum(percent)/len(percent)\n",
    "median = np.median(percent)\n",
    "print(\"mean: {}, median: {}\".format(mean,median))\n",
    "variance = np.var(percent)\n",
    "sd = np.std(percent, ddof=1)\n",
    "se = sd/(len(percent)**0.5)\n",
    "print(\"variance: {}, standard deviation: {}, standard error: {}\".format(variance,sd,se))"
   ]
  },
  {
   "cell_type": "markdown",
   "metadata": {},
   "source": [
    "### Describing Data Drill\n",
    "1. The mean is 9.857, median is 10.0, mode is 8. Variance is 6.408, standard deviation is 2.734, and standard error is 1.033\n",
    "2. The estimate for the central tendancy would be around 10 and the variance would be around 5. The central tendancy would be around 9.7 since it is near both the mean, median, and mode so this seems like the most likely spot. as for the variance most value are seperated by the mean by a max of 5, so when added together and squared it would make sense that it is around this value\n",
    "3. all values changed except the median, since the change doesn't affect the ordering of the values\n",
    "4. This would not really change the central tendency since the '1' becomes an outlier and would only shift the tendency down a small bit. as for the variance, this would be affect emencely since now we have a value that is extremely far from the mean, meaning the variance would become much higher\n",
    "5. Using the methods similar to the previous problems, we can determine that the central tendency is around .17 or 17% with a standard error of 3%, meaning around 17% of adults were fans of the brady bunch"
   ]
  },
  {
   "cell_type": "markdown",
   "metadata": {},
   "source": [
    "## Excersices in Probability - Basics of Probability\n",
    "1. In each case each flip is independent of the previous, there for all for combinations have the same probability of happening, which is 1/16 or (1/2)^4\n",
    "2. the probability of not choosing a man is 24/45\n",
    "3. the chance of Bernice being in a plane crash is .0005%\n",
    "4. This method has an inherent bias towards users that click more links on the website than those that just view the home page. a solution for this would be to do 5% of all user that visit the website in general"
   ]
  },
  {
   "cell_type": "code",
   "execution_count": null,
   "metadata": {},
   "outputs": [],
   "source": []
  }
 ],
 "metadata": {
  "kernelspec": {
   "display_name": "Python 3",
   "language": "python",
   "name": "python3"
  },
  "language_info": {
   "codemirror_mode": {
    "name": "ipython",
    "version": 3
   },
   "file_extension": ".py",
   "mimetype": "text/x-python",
   "name": "python",
   "nbconvert_exporter": "python",
   "pygments_lexer": "ipython3",
   "version": "3.6.5"
  }
 },
 "nbformat": 4,
 "nbformat_minor": 2
}
