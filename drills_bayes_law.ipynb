{
 "cells": [
  {
   "cell_type": "markdown",
   "metadata": {},
   "source": [
    "## Baye's Law Drills - Lesson 2 Unit 3\n",
    "### Intuition based answers\n",
    "1. Propability of a positive result: .98 * .005 + .10 * .995 = .1044\n",
    "2. Correctly diagnosing a sufferer: .98 * .005 = .0049\n",
    "3. Correctly identify a non-sufferer: .995 * .90 = .8955\n",
    "4. Misclassify an individual: .005 * .02 + .10 * .995 = .0996\n",
    "\n",
    "### Baye's Laws answers\n",
    "1. .98 * .005 + .10 * .995 = .1044\n",
    "2. P(Suf|pos) = P(pos|suf) * P(suf) / [P(suf) * P(pos|suf) + P(suf~) * P(pos|suf ~)] => .98 * .005 / (.005 * .98 + .995 * .02) = .1975 \n",
    "\n",
    "NOTE: I know this is wrong, but I can not find the error or miscalculation I am doing, especially since the following one gives me a correct answer using this law\n",
    "\n",
    "3. P(non|neg) = P(neg|non) * P(non) / [P(non) * P(neg|non) + P(non~) * P(neg|non~)] => .90 * .995 / (.90 * .995 + .10 * .005) = .9994\n",
    "4. .005 * .02 + .10 * .995 = .0996"
   ]
  },
  {
   "cell_type": "code",
   "execution_count": null,
   "metadata": {},
   "outputs": [],
   "source": []
  }
 ],
 "metadata": {
  "kernelspec": {
   "display_name": "Python 3",
   "language": "python",
   "name": "python3"
  },
  "language_info": {
   "codemirror_mode": {
    "name": "ipython",
    "version": 3
   },
   "file_extension": ".py",
   "mimetype": "text/x-python",
   "name": "python",
   "nbconvert_exporter": "python",
   "pygments_lexer": "ipython3",
   "version": "3.6.5"
  }
 },
 "nbformat": 4,
 "nbformat_minor": 2
}
